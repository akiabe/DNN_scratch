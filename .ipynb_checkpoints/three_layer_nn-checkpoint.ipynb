{
 "cells": [
  {
   "cell_type": "code",
   "execution_count": 2,
   "metadata": {},
   "outputs": [],
   "source": [
    "import numpy as np"
   ]
  },
  {
   "cell_type": "code",
   "execution_count": 11,
   "metadata": {
    "pycharm": {
     "name": "#%%\n"
    }
   },
   "outputs": [
    {
     "name": "stdout",
     "output_type": "stream",
     "text": [
      "(4, 2)\n",
      "[[0 0]\n",
      " [0 1]\n",
      " [1 0]\n",
      " [1 1]]\n",
      "(4, 1)\n",
      "[[0]\n",
      " [1]\n",
      " [1]\n",
      " [0]]\n"
     ]
    }
   ],
   "source": [
    "x_train = np.array([[0,0], [0,1], [1,0], [1,1]])\n",
    "y_train = np.array([[0], [1], [1], [0]])\n",
    "print(x_train.shape)\n",
    "print(x_train)\n",
    "print(y_train.shape)\n",
    "print(y_train)"
   ]
  },
  {
   "cell_type": "code",
   "execution_count": 12,
   "metadata": {},
   "outputs": [],
   "source": [
    "input_units, hidden_units, output_units = (2, 2, 1)\n",
    "epochs = 3000\n",
    "learning_rate = 0.1"
   ]
  },
  {
   "cell_type": "code",
   "execution_count": 13,
   "metadata": {},
   "outputs": [],
   "source": [
    "class NNclass():\n",
    "    def __init__(self, input_units, hidden_units, output_units):\n",
    "        self.W1 = np.random.randn(input_units, hidden_units)\n",
    "        self.b1 = np.random.randn(1, input_units)\n",
    "        self.W2 = np.random.randn(hidden_units, output_units)\n",
    "        self.b2 = np.random.randn(1, output_units)\n",
    "    \n",
    "    def sigmoid(self, x):\n",
    "        y = 1 / (1 + np.exp(-x))\n",
    "        return y\n",
    "    \n",
    "    def sigmoid_derivative(self, x):\n",
    "        y = self.sigmoid(x) * (1 - self.sigmoid(x))\n",
    "        return y\n",
    "    \n",
    "    def train(self, x_train, y_train, epochs, learning_rate):\n",
    "        for i in range(epochs):\n",
    "            m = x_train.shape[0]\n",
    "            \n",
    "            layer_z1 = np.dot(x_train, self.W1) + self.b1\n",
    "            layer_a1 = self.sigmoid(layer_z1)\n",
    "            layer_z2 = np.dot(layer_a1, self.W2) + self.b2\n",
    "            layer_a2 = self.sigmoid(layer_z2)\n",
    "            \n",
    "            cost = - np.sum(y_train * np.log(layer_a2) + (1 - y_train) * np.log(1 - layer_a2)) / m\n",
    "            loss.append(cost)\n",
    "            \n",
    "            dlayer_z2 = (layer_a2 - y_train) / m\n",
    "            dW2 = np.dot(layer_a1.T, dlayer_z2)\n",
    "            db2 = np.sum(dlayer_z2, axis=0 ,keepdims=True)\n",
    "\n",
    "            dlayer_z1 = np.dot(dlayer_z2, self.W2.T) * self.sigmoid_derivative(layer_z1)\n",
    "            dW1 = np.dot(x_train.T, dlayer_z1)\n",
    "            db1 = np.sum(dlayer_z1, axis=0 ,keepdims=True)\n",
    "\n",
    "            self.W2 -= learning_rate * dW2\n",
    "            self.b2 -=  learning_rate * db2\n",
    "            self.W1 -= learning_rate * dW1\n",
    "            self.b1 -= learning_rate * db1\n",
    "\n",
    "        return layer_a2            "
   ]
  },
  {
   "cell_type": "code",
   "execution_count": 15,
   "metadata": {},
   "outputs": [
    {
     "data": {
      "text/plain": [
       "array([[0.16167307],\n",
       "       [0.8320952 ],\n",
       "       [0.83370613],\n",
       "       [0.13539296]])"
      ]
     },
     "execution_count": 15,
     "metadata": {},
     "output_type": "execute_result"
    }
   ],
   "source": [
    "loss = []\n",
    "model = NNclass(input_units, hidden_units, output_units)\n",
    "model.train(x_train, y_train, epochs, learning_rate)"
   ]
  },
  {
   "cell_type": "code",
   "execution_count": null,
   "metadata": {},
   "outputs": [],
   "source": []
  }
 ],
 "metadata": {
  "kernelspec": {
   "display_name": "Python 3",
   "language": "python",
   "name": "python3"
  },
  "language_info": {
   "codemirror_mode": {
    "name": "ipython",
    "version": 3
   },
   "file_extension": ".py",
   "mimetype": "text/x-python",
   "name": "python",
   "nbconvert_exporter": "python",
   "pygments_lexer": "ipython3",
   "version": "3.8.3"
  }
 },
 "nbformat": 4,
 "nbformat_minor": 1
}
